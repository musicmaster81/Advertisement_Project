{
 "cells": [
  {
   "cell_type": "markdown",
   "metadata": {},
   "source": [
    "# Advertisement Project"
   ]
  },
  {
   "cell_type": "markdown",
   "metadata": {},
   "source": [
    "### Introduction"
   ]
  },
  {
   "cell_type": "markdown",
   "metadata": {},
   "source": [
    "For this project, we are pretending that we work for an e-learning company that offers courses on programming. Something along the lines of Coursera, for example. Our company would like to invest money into the advertisement space to generate interest in our products. The goal of this project is to find the two best markets to advertise within in order to generate the best return on our investment."
   ]
  },
  {
   "cell_type": "markdown",
   "metadata": {},
   "source": [
    "Now, obviously because this is a hypothetical scenario, we do not have access to our imaginary dataset. As a result, we will be using a dataset compiled by the popular e-learning platform freeCodeCamp. The data is from 2017 and is what we shall be analyzing today."
   ]
  },
  {
   "cell_type": "markdown",
   "metadata": {},
   "source": [
    "### Data Exploration"
   ]
  },
  {
   "cell_type": "markdown",
   "metadata": {},
   "source": [
    "As always, we begin by importing the necessary packages, loading in our data frame, and inspecting the results to see what we are working with."
   ]
  },
  {
   "cell_type": "code",
   "execution_count": 1,
   "metadata": {
    "collapsed": false
   },
   "outputs": [
    {
     "name": "stderr",
     "output_type": "stream",
     "text": [
      "/dataquest/system/env/python3/lib/python3.4/site-packages/IPython/core/interactiveshell.py:2723: DtypeWarning:\n",
      "\n",
      "Columns (17,62) have mixed types. Specify dtype option on import or set low_memory=False.\n",
      "\n"
     ]
    },
    {
     "data": {
      "text/html": [
       "<div>\n",
       "<style scoped>\n",
       "    .dataframe tbody tr th:only-of-type {\n",
       "        vertical-align: middle;\n",
       "    }\n",
       "\n",
       "    .dataframe tbody tr th {\n",
       "        vertical-align: top;\n",
       "    }\n",
       "\n",
       "    .dataframe thead th {\n",
       "        text-align: right;\n",
       "    }\n",
       "</style>\n",
       "<table border=\"1\" class=\"dataframe\">\n",
       "  <thead>\n",
       "    <tr style=\"text-align: right;\">\n",
       "      <th></th>\n",
       "      <th>Age</th>\n",
       "      <th>AttendedBootcamp</th>\n",
       "      <th>BootcampFinish</th>\n",
       "      <th>BootcampLoanYesNo</th>\n",
       "      <th>BootcampName</th>\n",
       "      <th>BootcampRecommend</th>\n",
       "      <th>ChildrenNumber</th>\n",
       "      <th>CityPopulation</th>\n",
       "      <th>CodeEventConferences</th>\n",
       "      <th>CodeEventDjangoGirls</th>\n",
       "      <th>...</th>\n",
       "      <th>YouTubeFCC</th>\n",
       "      <th>YouTubeFunFunFunction</th>\n",
       "      <th>YouTubeGoogleDev</th>\n",
       "      <th>YouTubeLearnCode</th>\n",
       "      <th>YouTubeLevelUpTuts</th>\n",
       "      <th>YouTubeMIT</th>\n",
       "      <th>YouTubeMozillaHacks</th>\n",
       "      <th>YouTubeOther</th>\n",
       "      <th>YouTubeSimplilearn</th>\n",
       "      <th>YouTubeTheNewBoston</th>\n",
       "    </tr>\n",
       "  </thead>\n",
       "  <tbody>\n",
       "    <tr>\n",
       "      <th>0</th>\n",
       "      <td>27.0</td>\n",
       "      <td>0.0</td>\n",
       "      <td>NaN</td>\n",
       "      <td>NaN</td>\n",
       "      <td>NaN</td>\n",
       "      <td>NaN</td>\n",
       "      <td>NaN</td>\n",
       "      <td>more than 1 million</td>\n",
       "      <td>NaN</td>\n",
       "      <td>NaN</td>\n",
       "      <td>...</td>\n",
       "      <td>NaN</td>\n",
       "      <td>NaN</td>\n",
       "      <td>NaN</td>\n",
       "      <td>NaN</td>\n",
       "      <td>NaN</td>\n",
       "      <td>NaN</td>\n",
       "      <td>NaN</td>\n",
       "      <td>NaN</td>\n",
       "      <td>NaN</td>\n",
       "      <td>NaN</td>\n",
       "    </tr>\n",
       "    <tr>\n",
       "      <th>1</th>\n",
       "      <td>34.0</td>\n",
       "      <td>0.0</td>\n",
       "      <td>NaN</td>\n",
       "      <td>NaN</td>\n",
       "      <td>NaN</td>\n",
       "      <td>NaN</td>\n",
       "      <td>NaN</td>\n",
       "      <td>less than 100,000</td>\n",
       "      <td>NaN</td>\n",
       "      <td>NaN</td>\n",
       "      <td>...</td>\n",
       "      <td>1.0</td>\n",
       "      <td>NaN</td>\n",
       "      <td>NaN</td>\n",
       "      <td>NaN</td>\n",
       "      <td>NaN</td>\n",
       "      <td>NaN</td>\n",
       "      <td>NaN</td>\n",
       "      <td>NaN</td>\n",
       "      <td>NaN</td>\n",
       "      <td>NaN</td>\n",
       "    </tr>\n",
       "    <tr>\n",
       "      <th>2</th>\n",
       "      <td>21.0</td>\n",
       "      <td>0.0</td>\n",
       "      <td>NaN</td>\n",
       "      <td>NaN</td>\n",
       "      <td>NaN</td>\n",
       "      <td>NaN</td>\n",
       "      <td>NaN</td>\n",
       "      <td>more than 1 million</td>\n",
       "      <td>NaN</td>\n",
       "      <td>NaN</td>\n",
       "      <td>...</td>\n",
       "      <td>NaN</td>\n",
       "      <td>NaN</td>\n",
       "      <td>NaN</td>\n",
       "      <td>1.0</td>\n",
       "      <td>1.0</td>\n",
       "      <td>NaN</td>\n",
       "      <td>NaN</td>\n",
       "      <td>NaN</td>\n",
       "      <td>NaN</td>\n",
       "      <td>NaN</td>\n",
       "    </tr>\n",
       "    <tr>\n",
       "      <th>3</th>\n",
       "      <td>26.0</td>\n",
       "      <td>0.0</td>\n",
       "      <td>NaN</td>\n",
       "      <td>NaN</td>\n",
       "      <td>NaN</td>\n",
       "      <td>NaN</td>\n",
       "      <td>NaN</td>\n",
       "      <td>between 100,000 and 1 million</td>\n",
       "      <td>NaN</td>\n",
       "      <td>NaN</td>\n",
       "      <td>...</td>\n",
       "      <td>1.0</td>\n",
       "      <td>1.0</td>\n",
       "      <td>NaN</td>\n",
       "      <td>NaN</td>\n",
       "      <td>1.0</td>\n",
       "      <td>NaN</td>\n",
       "      <td>NaN</td>\n",
       "      <td>NaN</td>\n",
       "      <td>NaN</td>\n",
       "      <td>NaN</td>\n",
       "    </tr>\n",
       "    <tr>\n",
       "      <th>4</th>\n",
       "      <td>20.0</td>\n",
       "      <td>0.0</td>\n",
       "      <td>NaN</td>\n",
       "      <td>NaN</td>\n",
       "      <td>NaN</td>\n",
       "      <td>NaN</td>\n",
       "      <td>NaN</td>\n",
       "      <td>between 100,000 and 1 million</td>\n",
       "      <td>NaN</td>\n",
       "      <td>NaN</td>\n",
       "      <td>...</td>\n",
       "      <td>NaN</td>\n",
       "      <td>NaN</td>\n",
       "      <td>NaN</td>\n",
       "      <td>NaN</td>\n",
       "      <td>NaN</td>\n",
       "      <td>NaN</td>\n",
       "      <td>NaN</td>\n",
       "      <td>NaN</td>\n",
       "      <td>NaN</td>\n",
       "      <td>NaN</td>\n",
       "    </tr>\n",
       "    <tr>\n",
       "      <th>5</th>\n",
       "      <td>28.0</td>\n",
       "      <td>0.0</td>\n",
       "      <td>NaN</td>\n",
       "      <td>NaN</td>\n",
       "      <td>NaN</td>\n",
       "      <td>NaN</td>\n",
       "      <td>NaN</td>\n",
       "      <td>less than 100,000</td>\n",
       "      <td>NaN</td>\n",
       "      <td>NaN</td>\n",
       "      <td>...</td>\n",
       "      <td>NaN</td>\n",
       "      <td>NaN</td>\n",
       "      <td>NaN</td>\n",
       "      <td>NaN</td>\n",
       "      <td>NaN</td>\n",
       "      <td>NaN</td>\n",
       "      <td>NaN</td>\n",
       "      <td>CodingEntrepreneurs</td>\n",
       "      <td>NaN</td>\n",
       "      <td>1.0</td>\n",
       "    </tr>\n",
       "    <tr>\n",
       "      <th>6</th>\n",
       "      <td>29.0</td>\n",
       "      <td>0.0</td>\n",
       "      <td>NaN</td>\n",
       "      <td>NaN</td>\n",
       "      <td>NaN</td>\n",
       "      <td>NaN</td>\n",
       "      <td>NaN</td>\n",
       "      <td>between 100,000 and 1 million</td>\n",
       "      <td>1.0</td>\n",
       "      <td>NaN</td>\n",
       "      <td>...</td>\n",
       "      <td>NaN</td>\n",
       "      <td>NaN</td>\n",
       "      <td>NaN</td>\n",
       "      <td>NaN</td>\n",
       "      <td>NaN</td>\n",
       "      <td>NaN</td>\n",
       "      <td>NaN</td>\n",
       "      <td>NaN</td>\n",
       "      <td>NaN</td>\n",
       "      <td>NaN</td>\n",
       "    </tr>\n",
       "  </tbody>\n",
       "</table>\n",
       "<p>7 rows × 136 columns</p>\n",
       "</div>"
      ],
      "text/plain": [
       "    Age  AttendedBootcamp  BootcampFinish  BootcampLoanYesNo BootcampName  \\\n",
       "0  27.0               0.0             NaN                NaN          NaN   \n",
       "1  34.0               0.0             NaN                NaN          NaN   \n",
       "2  21.0               0.0             NaN                NaN          NaN   \n",
       "3  26.0               0.0             NaN                NaN          NaN   \n",
       "4  20.0               0.0             NaN                NaN          NaN   \n",
       "5  28.0               0.0             NaN                NaN          NaN   \n",
       "6  29.0               0.0             NaN                NaN          NaN   \n",
       "\n",
       "   BootcampRecommend  ChildrenNumber                 CityPopulation  \\\n",
       "0                NaN             NaN            more than 1 million   \n",
       "1                NaN             NaN              less than 100,000   \n",
       "2                NaN             NaN            more than 1 million   \n",
       "3                NaN             NaN  between 100,000 and 1 million   \n",
       "4                NaN             NaN  between 100,000 and 1 million   \n",
       "5                NaN             NaN              less than 100,000   \n",
       "6                NaN             NaN  between 100,000 and 1 million   \n",
       "\n",
       "   CodeEventConferences  CodeEventDjangoGirls         ...           \\\n",
       "0                   NaN                   NaN         ...            \n",
       "1                   NaN                   NaN         ...            \n",
       "2                   NaN                   NaN         ...            \n",
       "3                   NaN                   NaN         ...            \n",
       "4                   NaN                   NaN         ...            \n",
       "5                   NaN                   NaN         ...            \n",
       "6                   1.0                   NaN         ...            \n",
       "\n",
       "   YouTubeFCC  YouTubeFunFunFunction  YouTubeGoogleDev  YouTubeLearnCode  \\\n",
       "0         NaN                    NaN               NaN               NaN   \n",
       "1         1.0                    NaN               NaN               NaN   \n",
       "2         NaN                    NaN               NaN               1.0   \n",
       "3         1.0                    1.0               NaN               NaN   \n",
       "4         NaN                    NaN               NaN               NaN   \n",
       "5         NaN                    NaN               NaN               NaN   \n",
       "6         NaN                    NaN               NaN               NaN   \n",
       "\n",
       "   YouTubeLevelUpTuts  YouTubeMIT  YouTubeMozillaHacks         YouTubeOther  \\\n",
       "0                 NaN         NaN                  NaN                  NaN   \n",
       "1                 NaN         NaN                  NaN                  NaN   \n",
       "2                 1.0         NaN                  NaN                  NaN   \n",
       "3                 1.0         NaN                  NaN                  NaN   \n",
       "4                 NaN         NaN                  NaN                  NaN   \n",
       "5                 NaN         NaN                  NaN  CodingEntrepreneurs   \n",
       "6                 NaN         NaN                  NaN                  NaN   \n",
       "\n",
       "   YouTubeSimplilearn  YouTubeTheNewBoston  \n",
       "0                 NaN                  NaN  \n",
       "1                 NaN                  NaN  \n",
       "2                 NaN                  NaN  \n",
       "3                 NaN                  NaN  \n",
       "4                 NaN                  NaN  \n",
       "5                 NaN                  1.0  \n",
       "6                 NaN                  NaN  \n",
       "\n",
       "[7 rows x 136 columns]"
      ]
     },
     "execution_count": 1,
     "metadata": {},
     "output_type": "execute_result"
    }
   ],
   "source": [
    "import pandas as pd\n",
    "import numpy as np\n",
    "import matplotlib.pyplot as plt\n",
    "import matplotlib.style as style\n",
    "file = '2017-fCC-New-Coders-Survey-Data.csv'\n",
    "survey = pd.read_csv(file)\n",
    "survey.head(7)  # Examine the first 7 rows of our data frame"
   ]
  },
  {
   "cell_type": "markdown",
   "metadata": {},
   "source": [
    "We notice that there are 136 columns. That is a lot. So much in fact, that our data frame cannot even display them all. Let's print them all out to see which columns will be relevant for our analysis. "
   ]
  },
  {
   "cell_type": "code",
   "execution_count": 2,
   "metadata": {
    "collapsed": false
   },
   "outputs": [
    {
     "name": "stdout",
     "output_type": "stream",
     "text": [
      "Age\n",
      "AttendedBootcamp\n",
      "BootcampFinish\n",
      "BootcampLoanYesNo\n",
      "BootcampName\n",
      "BootcampRecommend\n",
      "ChildrenNumber\n",
      "CityPopulation\n",
      "CodeEventConferences\n",
      "CodeEventDjangoGirls\n",
      "CodeEventFCC\n",
      "CodeEventGameJam\n",
      "CodeEventGirlDev\n",
      "CodeEventHackathons\n",
      "CodeEventMeetup\n",
      "CodeEventNodeSchool\n",
      "CodeEventNone\n",
      "CodeEventOther\n",
      "CodeEventRailsBridge\n",
      "CodeEventRailsGirls\n",
      "CodeEventStartUpWknd\n",
      "CodeEventWkdBootcamps\n",
      "CodeEventWomenCode\n",
      "CodeEventWorkshops\n",
      "CommuteTime\n",
      "CountryCitizen\n",
      "CountryLive\n",
      "EmploymentField\n",
      "EmploymentFieldOther\n",
      "EmploymentStatus\n",
      "EmploymentStatusOther\n",
      "ExpectedEarning\n",
      "FinanciallySupporting\n",
      "FirstDevJob\n",
      "Gender\n",
      "GenderOther\n",
      "HasChildren\n",
      "HasDebt\n",
      "HasFinancialDependents\n",
      "HasHighSpdInternet\n",
      "HasHomeMortgage\n",
      "HasServedInMilitary\n",
      "HasStudentDebt\n",
      "HomeMortgageOwe\n",
      "HoursLearning\n",
      "ID.x\n",
      "ID.y\n",
      "Income\n",
      "IsEthnicMinority\n",
      "IsReceiveDisabilitiesBenefits\n",
      "IsSoftwareDev\n",
      "IsUnderEmployed\n",
      "JobApplyWhen\n",
      "JobInterestBackEnd\n",
      "JobInterestDataEngr\n",
      "JobInterestDataSci\n",
      "JobInterestDevOps\n",
      "JobInterestFrontEnd\n",
      "JobInterestFullStack\n",
      "JobInterestGameDev\n",
      "JobInterestInfoSec\n",
      "JobInterestMobile\n",
      "JobInterestOther\n",
      "JobInterestProjMngr\n",
      "JobInterestQAEngr\n",
      "JobInterestUX\n",
      "JobPref\n",
      "JobRelocateYesNo\n",
      "JobRoleInterest\n",
      "JobWherePref\n",
      "LanguageAtHome\n",
      "MaritalStatus\n",
      "MoneyForLearning\n",
      "MonthsProgramming\n",
      "NetworkID\n",
      "Part1EndTime\n",
      "Part1StartTime\n",
      "Part2EndTime\n",
      "Part2StartTime\n",
      "PodcastChangeLog\n",
      "PodcastCodeNewbie\n",
      "PodcastCodePen\n",
      "PodcastDevTea\n",
      "PodcastDotNET\n",
      "PodcastGiantRobots\n",
      "PodcastJSAir\n",
      "PodcastJSJabber\n",
      "PodcastNone\n",
      "PodcastOther\n",
      "PodcastProgThrowdown\n",
      "PodcastRubyRogues\n",
      "PodcastSEDaily\n",
      "PodcastSERadio\n",
      "PodcastShopTalk\n",
      "PodcastTalkPython\n",
      "PodcastTheWebAhead\n",
      "ResourceCodecademy\n",
      "ResourceCodeWars\n",
      "ResourceCoursera\n",
      "ResourceCSS\n",
      "ResourceEdX\n",
      "ResourceEgghead\n",
      "ResourceFCC\n",
      "ResourceHackerRank\n",
      "ResourceKA\n",
      "ResourceLynda\n",
      "ResourceMDN\n",
      "ResourceOdinProj\n",
      "ResourceOther\n",
      "ResourcePluralSight\n",
      "ResourceSkillcrush\n",
      "ResourceSO\n",
      "ResourceTreehouse\n",
      "ResourceUdacity\n",
      "ResourceUdemy\n",
      "ResourceW3S\n",
      "SchoolDegree\n",
      "SchoolMajor\n",
      "StudentDebtOwe\n",
      "YouTubeCodeCourse\n",
      "YouTubeCodingTrain\n",
      "YouTubeCodingTut360\n",
      "YouTubeComputerphile\n",
      "YouTubeDerekBanas\n",
      "YouTubeDevTips\n",
      "YouTubeEngineeredTruth\n",
      "YouTubeFCC\n",
      "YouTubeFunFunFunction\n",
      "YouTubeGoogleDev\n",
      "YouTubeLearnCode\n",
      "YouTubeLevelUpTuts\n",
      "YouTubeMIT\n",
      "YouTubeMozillaHacks\n",
      "YouTubeOther\n",
      "YouTubeSimplilearn\n",
      "YouTubeTheNewBoston\n"
     ]
    }
   ],
   "source": [
    "for column in survey.columns:\n",
    "    print(column)"
   ]
  },
  {
   "cell_type": "markdown",
   "metadata": {},
   "source": [
    "### Data Preprocessing"
   ]
  },
  {
   "cell_type": "markdown",
   "metadata": {},
   "source": [
    "There is no way that we are going to use all 136 columns in this data set. However, recall that our original goal is to find 2 markets that are excellent to advertise in. In order to get to that goal, we want to answer questions about a population of new coders that are interested in the subjects that we teach.\n",
    "\n",
    "A good place to start would be to figure out:\n",
    "- Where these new coders are located\n",
    "- What are the locations with the greatest number of new coders\n",
    "- How much money new coders are willing to spend"
   ]
  },
  {
   "cell_type": "markdown",
   "metadata": {},
   "source": [
    "Because we are dealing with a population, we want to make sure that this dataset is representative. This will ensure that the conclusions that we draw will be valid."
   ]
  },
  {
   "cell_type": "code",
   "execution_count": 3,
   "metadata": {
    "collapsed": false
   },
   "outputs": [
    {
     "name": "stdout",
     "output_type": "stream",
     "text": [
      "Full-Stack Web Developer                                                                                                                                                              11.770595\n",
      "  Front-End Web Developer                                                                                                                                                              6.435927\n",
      "  Data Scientist                                                                                                                                                                       2.173913\n",
      "Back-End Web Developer                                                                                                                                                                 2.030892\n",
      "  Mobile Developer                                                                                                                                                                     1.673341\n",
      "Game Developer                                                                                                                                                                         1.630435\n",
      "Information Security                                                                                                                                                                   1.315789\n",
      "Full-Stack Web Developer,   Front-End Web Developer                                                                                                                                    0.915332\n",
      "  Front-End Web Developer, Full-Stack Web Developer                                                                                                                                    0.800915\n",
      "  Product Manager                                                                                                                                                                      0.786613\n",
      "Data Engineer                                                                                                                                                                          0.758009\n",
      "  User Experience Designer                                                                                                                                                             0.743707\n",
      "  User Experience Designer,   Front-End Web Developer                                                                                                                                  0.614989\n",
      "  Front-End Web Developer, Back-End Web Developer, Full-Stack Web Developer                                                                                                            0.557780\n",
      "  DevOps / SysAdmin                                                                                                                                                                    0.514874\n",
      "Back-End Web Developer,   Front-End Web Developer, Full-Stack Web Developer                                                                                                            0.514874\n",
      "Back-End Web Developer, Full-Stack Web Developer,   Front-End Web Developer                                                                                                            0.514874\n",
      "Full-Stack Web Developer,   Front-End Web Developer, Back-End Web Developer                                                                                                            0.443364\n",
      "  Front-End Web Developer, Full-Stack Web Developer, Back-End Web Developer                                                                                                            0.429062\n",
      "  Front-End Web Developer,   User Experience Designer                                                                                                                                  0.414760\n",
      "Full-Stack Web Developer,   Mobile Developer                                                                                                                                           0.414760\n",
      "Back-End Web Developer, Full-Stack Web Developer                                                                                                                                       0.386156\n",
      "Full-Stack Web Developer, Back-End Web Developer                                                                                                                                       0.371854\n",
      "Back-End Web Developer,   Front-End Web Developer                                                                                                                                      0.286041\n",
      "Full-Stack Web Developer, Back-End Web Developer,   Front-End Web Developer                                                                                                            0.271739\n",
      "Data Engineer,   Data Scientist                                                                                                                                                        0.271739\n",
      "  Front-End Web Developer,   Mobile Developer                                                                                                                                          0.257437\n",
      "Full-Stack Web Developer,   Data Scientist                                                                                                                                             0.243135\n",
      "  Data Scientist, Data Engineer                                                                                                                                                        0.228833\n",
      "  Mobile Developer, Game Developer                                                                                                                                                     0.228833\n",
      "                                                                                                                                                                                        ...    \n",
      "  Mobile Developer, Data Engineer,   User Experience Designer,   Front-End Web Developer, Full-Stack Web Developer, Back-End Web Developer,   Product Manager                          0.014302\n",
      "Full-Stack Web Developer,   Data Scientist,   Front-End Web Developer,   User Experience Designer,   Product Manager                                                                   0.014302\n",
      "Any of them.                                                                                                                                                                           0.014302\n",
      "  User Experience Designer, Full-Stack Web Developer,   DevOps / SysAdmin, Information Security,   Quality Assurance Engineer                                                          0.014302\n",
      "Game Developer, Information Security, Full-Stack Web Developer, Back-End Web Developer                                                                                                 0.014302\n",
      "Back-End Web Developer,   Front-End Web Developer,   Mobile Developer, Full-Stack Web Developer, Information Security, Game Developer                                                  0.014302\n",
      "Back-End Web Developer,   DevOps / SysAdmin,   Front-End Web Developer,   Mobile Developer, Full-Stack Web Developer                                                                   0.014302\n",
      "  Mobile Developer,   Front-End Web Developer, Full-Stack Web Developer, Back-End Web Developer, Game Developer                                                                        0.014302\n",
      "Back-End Web Developer, Game Developer, Full-Stack Web Developer,   Front-End Web Developer,   DevOps / SysAdmin                                                                       0.014302\n",
      "  Product Manager, Data Engineer,   Quality Assurance Engineer,   Data Scientist                                                                                                       0.014302\n",
      "Game Developer,   Front-End Web Developer,   Mobile Developer, Back-End Web Developer                                                                                                  0.014302\n",
      "  Product Manager,   User Experience Designer,   Quality Assurance Engineer, Full-Stack Web Developer,   Front-End Web Developer                                                       0.014302\n",
      "  Product Manager, Back-End Web Developer,   Data Scientist, Full-Stack Web Developer, Game Developer,   User Experience Designer, Information Security                                0.014302\n",
      "Full-Stack Web Developer, Information Security, Technology-Business Liaison                                                                                                            0.014302\n",
      "Game Developer,   Front-End Web Developer,   Mobile Developer, Full-Stack Web Developer                                                                                                0.014302\n",
      "  Front-End Web Developer,   Product Manager,   Data Scientist,   Mobile Developer,   User Experience Designer                                                                         0.014302\n",
      "Back-End Web Developer, Full-Stack Web Developer,   Mobile Developer,   User Experience Designer,   Product Manager,   Front-End Web Developer                                         0.014302\n",
      "  Mobile Developer, Game Developer, Back-End Web Developer, Full-Stack Web Developer,   Front-End Web Developer,   User Experience Designer, User Interface Designer                   0.014302\n",
      "  Mobile Developer, Data Engineer,   Data Scientist, Full-Stack Web Developer                                                                                                          0.014302\n",
      "Information Security, Back-End Web Developer,   User Experience Designer,   Front-End Web Developer, Full-Stack Web Developer,   Mobile Developer, Game Developer                      0.014302\n",
      "Full-Stack Web Developer,   Data Scientist,   Mobile Developer,   User Experience Designer, Back-End Web Developer,   Front-End Web Developer                                          0.014302\n",
      "Information Security, Game Developer, Back-End Web Developer, Full-Stack Web Developer                                                                                                 0.014302\n",
      "Information Security, Full-Stack Web Developer,   Front-End Web Developer, Data Engineer,   DevOps / SysAdmin                                                                          0.014302\n",
      "  User Experience Designer,   Mobile Developer,   Product Manager,   Front-End Web Developer, Back-End Web Developer                                                                   0.014302\n",
      "Data Engineer, Back-End Web Developer, Information Security                                                                                                                            0.014302\n",
      "Back-End Web Developer, Data Engineer,   Data Scientist,   Quality Assurance Engineer, Information Security, Full-Stack Web Developer                                                  0.014302\n",
      "  Front-End Web Developer, Full-Stack Web Developer,   Data Scientist,   User Experience Designer,   Quality Assurance Engineer, Game Developer                                        0.014302\n",
      "  Data Scientist,   Front-End Web Developer, Back-End Web Developer, Data Engineer, Information Security,   Mobile Developer, Full-Stack Web Developer,   User Experience Designer     0.014302\n",
      "Full-Stack Web Developer, Game Developer,   Data Scientist,   Mobile Developer                                                                                                         0.014302\n",
      "Data Engineer,   Front-End Web Developer, Full-Stack Web Developer                                                                                                                     0.014302\n",
      "Name: JobRoleInterest, Length: 3213, dtype: float64\n"
     ]
    }
   ],
   "source": [
    "# We begin by generating a frequency table for the JobRoleInterest column.\n",
    "job_interest_table = survey['JobRoleInterest'].value_counts(normalize=True) * 100  # Generates freq table\n",
    "print(job_interest_table)"
   ]
  },
  {
   "cell_type": "markdown",
   "metadata": {},
   "source": [
    "Notice that within our table, people can select more than a single field of interest. Let's try splitting our data to see how many people are interested in a single subject and how many people are interested in multiple. "
   ]
  },
  {
   "cell_type": "code",
   "execution_count": 4,
   "metadata": {
    "collapsed": false
   },
   "outputs": [
    {
     "name": "stdout",
     "output_type": "stream",
     "text": [
      "1     31.650458\n",
      "2     10.883867\n",
      "3     15.889588\n",
      "4     15.217391\n",
      "5     12.042334\n",
      "6      6.721968\n",
      "7      3.861556\n",
      "8      1.759153\n",
      "9      0.986842\n",
      "10     0.471968\n",
      "11     0.185927\n",
      "12     0.300343\n",
      "13     0.028604\n",
      "Name: JobRoleInterest, dtype: float64\n"
     ]
    }
   ],
   "source": [
    "job_interest_nonull = survey['JobRoleInterest'].dropna() # We remove NaN\n",
    "areas_of_interest = job_interest_nonull.str.split(',')  # Split jobs on commas\n",
    "\n",
    "# We then return the number of jobs based upon the split list from above\n",
    "interest_split = areas_of_interest.apply(lambda x: len(x)) \n",
    "split_table = interest_split.value_counts(normalize=True).sort_index() * 100\n",
    "print(split_table)"
   ]
  },
  {
   "cell_type": "markdown",
   "metadata": {},
   "source": [
    "We now can see that only about 31% of users are interested in a single field. However, over half are interested in 3, and about 83% are interested in 5 fields. This begs the question: \"Is there a field where the majority of learners have an interest in?\"\n",
    "\n",
    "Web and mobile development appears to be a fairly popular field on free code camp. Let's split our data again, only this time let's see how many peole listed web development at least once in their interests."
   ]
  },
  {
   "cell_type": "code",
   "execution_count": 5,
   "metadata": {
    "collapsed": false
   },
   "outputs": [
    {
     "name": "stdout",
     "output_type": "stream",
     "text": [
      "True     86.241419\n",
      "False    13.758581\n",
      "Name: JobRoleInterest, dtype: float64\n"
     ]
    }
   ],
   "source": [
    "# We will generate a freq table to see how many learners list web/mobile development\n",
    "web_mobile_development = job_interest_nonull.str.contains('Web Developer|Mobile Developer')\n",
    "freq_table = web_mobile_development.value_counts(normalize=True) * 100\n",
    "print(freq_table)"
   ]
  },
  {
   "cell_type": "code",
   "execution_count": 6,
   "metadata": {
    "collapsed": false
   },
   "outputs": [
    {
     "data": {
      "image/png": "[encoded data removed]",
      "text/plain": [
       "<matplotlib.figure.Figure at 0x7f4c5a1438d0>"
      ]
     },
     "metadata": {},
     "output_type": "display_data"
    }
   ],
   "source": [
    "# We now generate a graph to better represent our findings\n",
    "%matplotlib inline\n",
    "style.use('fivethirtyeight')\n",
    "freq_table.plot.bar()\n",
    "plt.title(\"Learners Interested in Web/Mobile Development\", y=1.1)\n",
    "plt.ylabel(\"Percentage\")\n",
    "plt.xticks([0,1], ['Web/Mobile Development', 'Other'], rotation=0)\n",
    "plt.ylim([0,100])\n",
    "plt.show()"
   ]
  },
  {
   "cell_type": "markdown",
   "metadata": {},
   "source": [
    "We conclude that the vast majority of users on free code camp (86%) are interested in web or mobile development. As a result, we should tailor our advertisements towards courses that our company offers on these fields. Additionally, this will provide plenty of information for additional analysis."
   ]
  },
  {
   "cell_type": "markdown",
   "metadata": {},
   "source": [
    "### Data Analysis"
   ]
  },
  {
   "cell_type": "markdown",
   "metadata": {},
   "source": [
    "Perhaps the most important area to consider when contemplating a new advertising campaign is location. As a result, we will want to examine where the different locations the learners in the data set above are reporting form. \n",
    "\n",
    "This will allow us to target the two most popular countries for our advertisement goal. The following section will be dedicated to generating this insight. "
   ]
  },
  {
   "cell_type": "code",
   "execution_count": 7,
   "metadata": {
    "collapsed": false
   },
   "outputs": [
    {
     "name": "stdout",
     "output_type": "stream",
     "text": [
      "United States of America         37.760824\n",
      "India                             9.128847\n",
      "United Kingdom                    4.936098\n",
      "Canada                            4.016693\n",
      "Brazil                            2.373500\n",
      "Germany                           2.112676\n",
      "Poland                            1.727960\n",
      "Russia                            1.714919\n",
      "Australia                         1.688837\n",
      "France                            1.486698\n",
      "Spain                             1.414971\n",
      "Nigeria                           1.395409\n",
      "Ukraine                           1.317162\n",
      "Romania                           1.115023\n",
      "Italy                             1.069379\n",
      "Mexico                            1.010694\n",
      "Netherlands (Holland, Europe)     0.925926\n",
      "Philippines                       0.880282\n",
      "South Africa                      0.821596\n",
      "Turkey                            0.782473\n",
      "Greece                            0.756390\n",
      "Serbia                            0.749870\n",
      "Argentina                         0.736828\n",
      "Pakistan                          0.710746\n",
      "Kenya                             0.599896\n",
      "Indonesia                         0.593375\n",
      "China                             0.586854\n",
      "Egypt                             0.567293\n",
      "Sweden                            0.521648\n",
      "Hungary                           0.502087\n",
      "                                   ...    \n",
      "Armenia                           0.013041\n",
      "Yemen                             0.013041\n",
      "Gibraltar                         0.006521\n",
      "Rwanda                            0.006521\n",
      "Samoa                             0.006521\n",
      "Guadeloupe                        0.006521\n",
      "Tajikistan                        0.006521\n",
      "Madagascar                        0.006521\n",
      "Channel Islands                   0.006521\n",
      "Canary Islands                    0.006521\n",
      "New Caledonia                     0.006521\n",
      "Vanuatu                           0.006521\n",
      "Korea North                       0.006521\n",
      "Virgin Islands (British)          0.006521\n",
      "Hawaii                            0.006521\n",
      "Bermuda                           0.006521\n",
      "Curacao                           0.006521\n",
      "Gabon                             0.006521\n",
      "British Indian Ocean Ter          0.006521\n",
      "Kuwait                            0.006521\n",
      "Burundi                           0.006521\n",
      "Sierra Leone                      0.006521\n",
      "Greenland                         0.006521\n",
      "Barbados                          0.006521\n",
      "Liberia                           0.006521\n",
      "Martinique                        0.006521\n",
      "Botswana                          0.006521\n",
      "Isle of Man                       0.006521\n",
      "Aruba                             0.006521\n",
      "Anguilla                          0.006521\n",
      "Name: CountryLive, Length: 172, dtype: float64\n"
     ]
    }
   ],
   "source": [
    "# We will use our non-null data frame created in the section above\n",
    "survey['JobRoleInterest'] = survey['JobRoleInterest'].dropna(axis=0)  # Drop NaN rows\n",
    "country_table_relative = survey['CountryLive'].value_counts(normalize=True) * 100\n",
    "print(country_table_relative)"
   ]
  },
  {
   "cell_type": "code",
   "execution_count": 8,
   "metadata": {
    "collapsed": false
   },
   "outputs": [
    {
     "name": "stdout",
     "output_type": "stream",
     "text": [
      "United States of America         5791\n",
      "India                            1400\n",
      "United Kingdom                    757\n",
      "Canada                            616\n",
      "Brazil                            364\n",
      "Germany                           324\n",
      "Poland                            265\n",
      "Russia                            263\n",
      "Australia                         259\n",
      "France                            228\n",
      "Spain                             217\n",
      "Nigeria                           214\n",
      "Ukraine                           202\n",
      "Romania                           171\n",
      "Italy                             164\n",
      "Mexico                            155\n",
      "Netherlands (Holland, Europe)     142\n",
      "Philippines                       135\n",
      "South Africa                      126\n",
      "Turkey                            120\n",
      "Greece                            116\n",
      "Serbia                            115\n",
      "Argentina                         113\n",
      "Pakistan                          109\n",
      "Kenya                              92\n",
      "Indonesia                          91\n",
      "China                              90\n",
      "Egypt                              87\n",
      "Sweden                             80\n",
      "Hungary                            77\n",
      "                                 ... \n",
      "Armenia                             2\n",
      "Yemen                               2\n",
      "Gibraltar                           1\n",
      "Rwanda                              1\n",
      "Samoa                               1\n",
      "Guadeloupe                          1\n",
      "Tajikistan                          1\n",
      "Madagascar                          1\n",
      "Channel Islands                     1\n",
      "Canary Islands                      1\n",
      "New Caledonia                       1\n",
      "Vanuatu                             1\n",
      "Korea North                         1\n",
      "Virgin Islands (British)            1\n",
      "Hawaii                              1\n",
      "Bermuda                             1\n",
      "Curacao                             1\n",
      "Gabon                               1\n",
      "British Indian Ocean Ter            1\n",
      "Kuwait                              1\n",
      "Burundi                             1\n",
      "Sierra Leone                        1\n",
      "Greenland                           1\n",
      "Barbados                            1\n",
      "Liberia                             1\n",
      "Martinique                          1\n",
      "Botswana                            1\n",
      "Isle of Man                         1\n",
      "Aruba                               1\n",
      "Anguilla                            1\n",
      "Name: CountryLive, Length: 172, dtype: int64\n"
     ]
    }
   ],
   "source": [
    "country_table_absolute = survey['CountryLive'].value_counts()\n",
    "print(country_table_absolute)"
   ]
  },
  {
   "cell_type": "markdown",
   "metadata": {},
   "source": [
    "Based upon the absolute and relative frequency charts, we can argue that it is safe to conclude that the United States and India should be the markets we are willing to advertise in. \n",
    "\n",
    "However, perhaps the even more important question is, \"How much money are we willing to spend in each market?\". The following section will deal with this valid question."
   ]
  },
  {
   "cell_type": "code",
   "execution_count": 9,
   "metadata": {
    "collapsed": false
   },
   "outputs": [
    {
     "data": {
      "text/plain": [
       "1995"
      ]
     },
     "execution_count": 9,
     "metadata": {},
     "output_type": "execute_result"
    }
   ],
   "source": [
    "# We will use the MoneyForLearning column to determine how much \n",
    "# learners are willing to spend.\n",
    "survey['MonthsProgramming'].replace(0, 1, inplace=True)  # Prevent 0 divisors\n",
    "\n",
    "# We now create a new column that will act as a proxy for how much learners are\n",
    "# willing to spend on a subscription. \n",
    "survey['WillingToSpend'] = survey['MoneyForLearning'] / survey['MonthsProgramming']\n",
    "survey['WillingToSpend'].isnull().sum()  # Check to see # of null values"
   ]
  },
  {
   "cell_type": "code",
   "execution_count": 10,
   "metadata": {
    "collapsed": false
   },
   "outputs": [],
   "source": [
    "# Reomve NaN rows form our data frame\n",
    "survey['WillingToSpend'] = survey['WillingToSpend'].dropna(axis=0)  # Drop NaN rows\n",
    "survey['CountryLive'] = survey['CountryLive'].dropna(axis=0)  # Drop NaN rows"
   ]
  },
  {
   "cell_type": "code",
   "execution_count": 11,
   "metadata": {
    "collapsed": false
   },
   "outputs": [
    {
     "data": {
      "text/plain": [
       "CountryLive\n",
       "United States of America    206.297711\n",
       "Canada                      118.434054\n",
       "India                        66.526198\n",
       "United Kingdom               55.774980\n",
       "Name: WillingToSpend, dtype: float64"
      ]
     },
     "execution_count": 11,
     "metadata": {},
     "output_type": "execute_result"
    }
   ],
   "source": [
    "# Create a groupby where we take the mean of the number of countries.\n",
    "countries_mean = survey.groupby('CountryLive').mean()\n",
    "countries_mean['WillingToSpend'][['United States of America', 'Canada', 'India', 'United Kingdom']]"
   ]
  },
  {
   "cell_type": "markdown",
   "metadata": {},
   "source": [
    "## Conclusion"
   ]
  },
  {
   "cell_type": "markdown",
   "metadata": {},
   "source": [
    "We conclude form this project that the countries we should be willing to advertise in are the United States and India from a response point of view.\n",
    "\n",
    "However, if we were interested in generating as much money as possible, we might consider advertising in Canada as opposed to India due to the fact that Canadians are more willing to pay for services than those who reside in India. "
   ]
  }
 ],
 "metadata": {
  "kernelspec": {
   "display_name": "Python 3",
   "language": "python",
   "name": "python3"
  },
  "language_info": {
   "codemirror_mode": {
    "name": "ipython",
    "version": 3
   },
   "file_extension": ".py",
   "mimetype": "text/x-python",
   "name": "python",
   "nbconvert_exporter": "python",
   "pygments_lexer": "ipython3",
   "version": "3.4.3"
  }
 },
 "nbformat": 4,
 "nbformat_minor": 2
}
